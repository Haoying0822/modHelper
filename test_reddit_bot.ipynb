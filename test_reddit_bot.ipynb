{
 "cells": [
  {
   "cell_type": "code",
   "execution_count": 26,
   "metadata": {},
   "outputs": [],
   "source": [
    "import praw\n",
    "import pdb\n",
    "import re\n",
    "import os\n",
    "\n",
    "reddit = praw.Reddit('modHelper')\n",
    "subreddit = reddit.subreddit(\"pythonforengineers\")"
   ]
  },
  {
   "cell_type": "markdown",
   "metadata": {},
   "source": [
    "Here we would like to test some basic functions of a reddit bot."
   ]
  },
  {
   "cell_type": "code",
   "execution_count": null,
   "metadata": {},
   "outputs": [],
   "source": [
    "#Access the post in a subreddit\n",
    "for submission in subreddit.hot(limit = 2):\n",
    "    print(\"Title: \", submission.title)\n",
    "    print(\"Text: \", submission.selftext)\n",
    "    print(\"Score: \", submission.score)\n",
    "    print(\"---------------------------------\\n\")"
   ]
  },
  {
   "cell_type": "code",
   "execution_count": null,
   "metadata": {},
   "outputs": [],
   "source": [
    "#Access the comments in a subreddit\n",
    "subreddit_comments = subreddit.comments(limit = 10)\n",
    "for comment in subreddit_comments:\n",
    "    print(comment.id)\n",
    "    print(comment.body)"
   ]
  },
  {
   "cell_type": "code",
   "execution_count": 40,
   "metadata": {},
   "outputs": [],
   "source": [
    "#Comment on a known submission\n",
    "for submission in subreddit.hot(limit=5):\n",
    "  if re.search(\"Are you a bot\", submission.title, re.IGNORECASE):\n",
    "    submission.reply(\"I'm a bot!\")"
   ]
  },
  {
   "cell_type": "markdown",
   "metadata": {},
   "source": [
    "Now, we would like to:\n",
    "1. Search our subreddit for some specific words and reply to it.\n",
    "2. Keep a list of posts it has already replied to, so we are not replying to the same post again and again.\n",
    "3. Make the bot maintain active all the time"
   ]
  },
  {
   "cell_type": "markdown",
   "metadata": {},
   "source": [
    "In order to keep track of the post we have already replied to, we can either interact with a database, or now we simply just use a txt file to keep track of it."
   ]
  },
  {
   "cell_type": "code",
   "execution_count": null,
   "metadata": {},
   "outputs": [],
   "source": [
    "if not os.path.isfile(\"achieve.txt\"):\n",
    "    achieve = []\n",
    "else:\n",
    "    with open(\"achieve.txt\", \"r\") as f:\n",
    "        achieve = f.read()\n",
    "        achieve = achieve.split(\"\\n\")\n",
    "        achieve = list(filter(None, achieve))\n",
    "\n",
    "subreddit = reddit.subreddit('pythonforengineers')\n",
    "for submission in subreddit.hot(limit=10):\n",
    "    if submission.id not in achieve:\n",
    "        if re.search(\"lmao\", submission.title, re.IGNORECASE):\n",
    "            submission.reply(\"TESTING TESTING\")\n",
    "            achieve.append(submission.id)\n",
    "\n",
    "with open(\"achieve.txt\", \"w\") as f:\n",
    "    for post_id in achieve:\n",
    "        f.write(post_id + \"\\n\")"
   ]
  },
  {
   "cell_type": "markdown",
   "metadata": {},
   "source": [
    "In order to keep the bot active all the time, we can either:\n",
    "1. Monitor the subreddit our bot has been deployed in for activity\n",
    "2. Have our program run eternally, using a sleep function within the program as per our requirements"
   ]
  },
  {
   "cell_type": "code",
   "execution_count": null,
   "metadata": {},
   "outputs": [],
   "source": [
    "while True:\n",
    "    #\n",
    "    sleep(3600) #the program sleep 1 hr after each iteration"
   ]
  }
 ],
 "metadata": {
  "interpreter": {
   "hash": "7d651571d8c342cfa3c9f39e34bfc1d87912fe081b58721906de5788abb12f1a"
  },
  "kernelspec": {
   "display_name": "Python 3.8.10 64-bit (windows store)",
   "language": "python",
   "name": "python3"
  },
  "language_info": {
   "codemirror_mode": {
    "name": "ipython",
    "version": 3
   },
   "file_extension": ".py",
   "mimetype": "text/x-python",
   "name": "python",
   "nbconvert_exporter": "python",
   "pygments_lexer": "ipython3",
   "version": "3.8.10"
  },
  "orig_nbformat": 4
 },
 "nbformat": 4,
 "nbformat_minor": 2
}
