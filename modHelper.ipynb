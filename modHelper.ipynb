{
 "cells": [
  {
   "cell_type": "code",
   "execution_count": 26,
   "metadata": {},
   "outputs": [],
   "source": [
    "import praw\n",
    "\n",
    "reddit = praw.Reddit('modHelper')\n",
    "subreddit = reddit.subreddit(\"pythonforengineers\")"
   ]
  },
  {
   "cell_type": "code",
   "execution_count": null,
   "metadata": {},
   "outputs": [],
   "source": [
    "#Access the post in a subreddit\n",
    "for submission in subreddit.hot(limit = 2):\n",
    "    print(\"Title: \", submission.title)\n",
    "    print(\"Text: \", submission.selftext)\n",
    "    print(\"Score: \", submission.score)\n",
    "    print(\"---------------------------------\\n\")"
   ]
  },
  {
   "cell_type": "code",
   "execution_count": null,
   "metadata": {},
   "outputs": [],
   "source": [
    "#Access the comments in a subreddit\n",
    "subreddit_comments = subreddit.comments(limit = 10)\n",
    "for comment in subreddit_comments:\n",
    "    print(comment.id)\n",
    "    print(comment.body)"
   ]
  }
 ],
 "metadata": {
  "interpreter": {
   "hash": "7d651571d8c342cfa3c9f39e34bfc1d87912fe081b58721906de5788abb12f1a"
  },
  "kernelspec": {
   "display_name": "Python 3.8.10 64-bit (windows store)",
   "language": "python",
   "name": "python3"
  },
  "language_info": {
   "codemirror_mode": {
    "name": "ipython",
    "version": 3
   },
   "file_extension": ".py",
   "mimetype": "text/x-python",
   "name": "python",
   "nbconvert_exporter": "python",
   "pygments_lexer": "ipython3",
   "version": "3.8.10"
  },
  "orig_nbformat": 4
 },
 "nbformat": 4,
 "nbformat_minor": 2
}
